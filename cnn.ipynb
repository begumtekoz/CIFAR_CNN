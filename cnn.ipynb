{
  "nbformat": 4,
  "nbformat_minor": 0,
  "metadata": {
    "colab": {
      "provenance": [],
      "authorship_tag": "ABX9TyOcbzISomJOKYKfXPdfupfi",
      "include_colab_link": true
    },
    "kernelspec": {
      "name": "python3",
      "display_name": "Python 3"
    },
    "language_info": {
      "name": "python"
    },
    "accelerator": "GPU"
  },
  "cells": [
    {
      "cell_type": "markdown",
      "metadata": {
        "id": "view-in-github",
        "colab_type": "text"
      },
      "source": [
        "<a href=\"https://colab.research.google.com/github/begumtekoz/CIFAR_CNN/blob/main/cnn.ipynb\" target=\"_parent\"><img src=\"https://colab.research.google.com/assets/colab-badge.svg\" alt=\"Open In Colab\"/></a>"
      ]
    },
    {
      "cell_type": "markdown",
      "source": [
        "#  **Convolutional Neural Networks**"
      ],
      "metadata": {
        "id": "jCwoQpVph-kv"
      }
    },
    {
      "cell_type": "markdown",
      "source": [
        "## Imports"
      ],
      "metadata": {
        "id": "MAsFE0Pmifjr"
      }
    },
    {
      "cell_type": "code",
      "execution_count": null,
      "metadata": {
        "id": "E6C8SZoq2dym"
      },
      "outputs": [],
      "source": [
        "import torch\n",
        "import numpy as np\n",
        "from torchvision import datasets\n",
        "import torchvision.transforms as transforms\n",
        "from torch.utils.data.sampler import SubsetRandomSampler"
      ]
    },
    {
      "cell_type": "code",
      "source": [
        "import torch\n",
        "import numpy as np\n",
        "\n",
        "# check if CUDA is available\n",
        "train_on_gpu = torch.cuda.is_available()\n",
        "\n",
        "if not train_on_gpu:\n",
        "    print('CUDA is not available.  Training on CPU ...')\n",
        "else:\n",
        "    print('CUDA is available!  Training on GPU ...')"
      ],
      "metadata": {
        "colab": {
          "base_uri": "https://localhost:8080/"
        },
        "id": "etntv-6K2jhO",
        "outputId": "e6ee2f0e-009e-4c1a-eb67-75194b72fe10"
      },
      "execution_count": null,
      "outputs": [
        {
          "output_type": "stream",
          "name": "stdout",
          "text": [
            "CUDA is available!  Training on GPU ...\n"
          ]
        }
      ]
    },
    {
      "cell_type": "markdown",
      "source": [
        "## Uploading the CIFAR10 Dataset and Preparing the Datasets"
      ],
      "metadata": {
        "id": "HqAzn-A-2zuC"
      }
    },
    {
      "cell_type": "markdown",
      "source": [
        "In this part, I'm going to upload Cifar10 dataset.Thanks to this code, cifar10 dataset is uploaded. The data, split between train and test sets. By using the print function, the size of training dataset is shown.\n",
        "\n",
        "Train dataset Length: 50000\n",
        "Test dataset Length:  10000"
      ],
      "metadata": {
        "id": "CH0NWGflijU3"
      }
    },
    {
      "cell_type": "code",
      "source": [
        "from torchvision import datasets\n",
        "import torchvision.transforms as transforms\n",
        "from torch.utils.data.sampler import SubsetRandomSampler\n",
        "\n",
        "\n",
        "# number of subprocesses to use for data loading\n",
        "num_workers = 0\n",
        "# how many samples per batch to load\n",
        "batch_size = 32\n",
        "# percentage of training set to use as validation\n",
        "valid_size = 0.1\n",
        "\n",
        "\n",
        "import torch, torchvision\n",
        "transform_train = torchvision.transforms.Compose([\n",
        "    torchvision.transforms.ToTensor(),\n",
        "    torchvision.transforms.Normalize((0.5, 0.5, 0.5), (0.5, 0.5, 0.5))\n",
        "])\n",
        "\n",
        "transform_test = torchvision.transforms.Compose([\n",
        "    torchvision.transforms.ToTensor(),\n",
        "    torchvision.transforms.Normalize((0.5, 0.5, 0.5), (0.5, 0.5, 0.5))\n",
        "])\n",
        "\n",
        "\n",
        "# choose the training and test datasets\n",
        "train_data = datasets.CIFAR10('data', train=True,\n",
        "                              download=True, transform=transform_train)\n",
        "\n",
        "test_data = datasets.CIFAR10('data', train=False,\n",
        "                             download=True, transform=transform_test)\n",
        "\n",
        "# obtain training indices that will be used for validation\n",
        "num_train = len(train_data)\n",
        "indices = list(range(num_train))\n",
        "np.random.shuffle(indices)\n",
        "split = int(np.floor(valid_size * num_train))\n",
        "train_idx, valid_idx = indices[split:], indices[:split]\n",
        "\n",
        "# define samplers for obtaining training and validation batches\n",
        "train_sampler = SubsetRandomSampler(train_idx)\n",
        "valid_sampler = SubsetRandomSampler(valid_idx)\n",
        "\n",
        "# prepare data loaders (combine dataset and sampler)\n",
        "train_loader = torch.utils.data.DataLoader(train_data, batch_size = 32,\n",
        "    sampler=train_sampler, num_workers=num_workers)\n",
        "valid_loader = torch.utils.data.DataLoader(train_data, batch_size = 32,\n",
        "    sampler=valid_sampler, num_workers=num_workers)\n",
        "test_loader = torch.utils.data.DataLoader(test_data, batch_size = 32,\n",
        "    num_workers=num_workers)\n",
        "\n",
        "# specify the image classes\n",
        "classes = ['airplane', 'automobile', 'bird', 'cat', 'deer',\n",
        "           'dog', 'frog', 'horse', 'ship', 'truck']"
      ],
      "metadata": {
        "colab": {
          "base_uri": "https://localhost:8080/"
        },
        "id": "Xjv-QCr225U5",
        "outputId": "ca0648d6-d635-49b4-e583-b6ea2b76b1b8"
      },
      "execution_count": null,
      "outputs": [
        {
          "output_type": "stream",
          "name": "stdout",
          "text": [
            "Files already downloaded and verified\n",
            "Files already downloaded and verified\n"
          ]
        }
      ]
    },
    {
      "cell_type": "markdown",
      "source": [
        "Train dataset is splitted 90/10. The length of validation dataset is 50000. The length of the new training dataset is 45000. The length of test dataset is 10000."
      ],
      "metadata": {
        "id": "6H60qMb4i5rR"
      }
    },
    {
      "cell_type": "code",
      "source": [
        "print(\"The total observation in the train_data:\", len(train_data))\n",
        "print(\"The total observation in the train_data:\", len(test_data))\n",
        "print('Validation set is splitted 90/10')\n",
        "print(\"The length of the new training dataset:\", len(train_sampler))\n",
        "print(\"The length of the validation dataset:\", len(valid_sampler))"
      ],
      "metadata": {
        "colab": {
          "base_uri": "https://localhost:8080/"
        },
        "id": "GUybVzM5-NA2",
        "outputId": "b9230825-b424-47e1-f42f-c6d206a32b82"
      },
      "execution_count": null,
      "outputs": [
        {
          "output_type": "stream",
          "name": "stdout",
          "text": [
            "The total observation in the train_data: 50000\n",
            "The total observation in the train_data: 10000\n",
            "Validation set is splitted 90/10\n",
            "The length of the new training dataset: 45000\n",
            "The length of the validation dataset: 5000\n"
          ]
        }
      ]
    },
    {
      "cell_type": "markdown",
      "source": [
        "# The Distribution of Classes in the Dataset"
      ],
      "metadata": {
        "id": "uIlvYr_8jWIm"
      }
    },
    {
      "cell_type": "code",
      "source": [
        "import pandas as pd\n",
        "import seaborn as sns\n",
        "import matplotlib.pyplot as plt"
      ],
      "metadata": {
        "id": "6y5JHC9BML5D"
      },
      "execution_count": null,
      "outputs": []
    },
    {
      "cell_type": "markdown",
      "source": [
        "**Train Dataset**\n",
        "\n",
        "Each class has 5000 observations and the number of class is 10."
      ],
      "metadata": {
        "id": "gFlnVHmhjc5a"
      }
    },
    {
      "cell_type": "code",
      "source": [
        "idx2class = {v: k for k, v in train_data.class_to_idx.items()}\n",
        "idx2class\n",
        "def get_class_distribution(dataset_obj):\n",
        "    count_dict = {k:0 for k,v in dataset_obj.class_to_idx.items()}\n",
        "\n",
        "    for element in dataset_obj:\n",
        "        y_lbl = element[1]\n",
        "        y_lbl = idx2class[y_lbl]\n",
        "        count_dict[y_lbl] += 1\n",
        "\n",
        "    return count_dict\n",
        "print(\"Distribution of classes: \\n\", get_class_distribution(train_data))\n",
        "plt.figure(figsize=(15,8))\n",
        "sns.barplot(data = pd.DataFrame.from_dict([get_class_distribution(train_data)]).melt(), x = \"variable\", y=\"value\", hue=\"variable\").set_title('Train Dataset Class Distribution')"
      ],
      "metadata": {
        "colab": {
          "base_uri": "https://localhost:8080/",
          "height": 563
        },
        "id": "2pdnnflLC9ff",
        "outputId": "31c894fa-ec90-49a6-e801-675ab87e49e8"
      },
      "execution_count": null,
      "outputs": [
        {
          "output_type": "stream",
          "name": "stdout",
          "text": [
            "Distribution of classes: \n",
            " {'airplane': 5000, 'automobile': 5000, 'bird': 5000, 'cat': 5000, 'deer': 5000, 'dog': 5000, 'frog': 5000, 'horse': 5000, 'ship': 5000, 'truck': 5000}\n"
          ]
        },
        {
          "output_type": "execute_result",
          "data": {
            "text/plain": [
              "Text(0.5, 1.0, 'Train Dataset Class Distribution')"
            ]
          },
          "metadata": {},
          "execution_count": 193
        },
        {
          "output_type": "display_data",
          "data": {
            "image/png": "[encoded data removed]",
            "text/plain": [
              "<Figure size 1080x576 with 1 Axes>"
            ]
          },
          "metadata": {
            "needs_background": "light"
          }
        }
      ]
    },
    {
      "cell_type": "markdown",
      "source": [
        "**Test Dataset**\n",
        "\n",
        "Each class has 5000 observations and the number of class is 10."
      ],
      "metadata": {
        "id": "MoQKZVaPjpq0"
      }
    },
    {
      "cell_type": "code",
      "source": [
        "idx2class1 = {v: k for k, v in test_data.class_to_idx.items()}\n",
        "idx2class1\n",
        "def get_class_distribution(dataset_obj):\n",
        "    count_dict = {k:0 for k,v in dataset_obj.class_to_idx.items()}\n",
        "\n",
        "    for element in dataset_obj:\n",
        "        y_lbl = element[1]\n",
        "        y_lbl = idx2class1[y_lbl]\n",
        "        count_dict[y_lbl] += 1\n",
        "\n",
        "    return count_dict\n",
        "print(\"Distribution of classes: \\n\", get_class_distribution(test_data))\n",
        "plt.figure(figsize=(15,8))\n",
        "sns.barplot(data = pd.DataFrame.from_dict([get_class_distribution(test_data)]).melt(), x = \"variable\", y=\"value\", hue=\"variable\").set_title('Train Dataset Class Distribution')"
      ],
      "metadata": {
        "colab": {
          "base_uri": "https://localhost:8080/",
          "height": 563
        },
        "id": "BwRTObeREMiJ",
        "outputId": "68472703-befb-40d0-88db-7ce0424a5b14"
      },
      "execution_count": null,
      "outputs": [
        {
          "output_type": "stream",
          "name": "stdout",
          "text": [
            "Distribution of classes: \n",
            " {'airplane': 1000, 'automobile': 1000, 'bird': 1000, 'cat': 1000, 'deer': 1000, 'dog': 1000, 'frog': 1000, 'horse': 1000, 'ship': 1000, 'truck': 1000}\n"
          ]
        },
        {
          "output_type": "execute_result",
          "data": {
            "text/plain": [
              "Text(0.5, 1.0, 'Train Dataset Class Distribution')"
            ]
          },
          "metadata": {},
          "execution_count": 194
        },
        {
          "output_type": "display_data",
          "data": {
            "image/png": "[encoded data removed]",
            "text/plain": [
              "<Figure size 1080x576 with 1 Axes>"
            ]
          },
          "metadata": {
            "needs_background": "light"
          }
        }
      ]
    },
    {
      "cell_type": "markdown",
      "source": [
        "**Visualize one observation from the train dataset**"
      ],
      "metadata": {
        "id": "d81Zl4-hjwTr"
      }
    },
    {
      "cell_type": "code",
      "source": [
        "# We can look at batches of images from the dataset using the make_grid method from torchvision\n",
        "from torchvision.utils import make_grid\n",
        "\n",
        "def show_batch(train_data):\n",
        "    for images, labels in train_data:\n",
        "        fig, ax = plt.subplots(figsize=(12, 6))\n",
        "        ax.set_xticks([]); ax.set_yticks([])\n",
        "        ax.imshow(make_grid(images, nrow=16).permute(1, 2, 0))\n",
        "        break"
      ],
      "metadata": {
        "id": "x3NcqDhKKLnv"
      },
      "execution_count": null,
      "outputs": []
    },
    {
      "cell_type": "code",
      "source": [
        "show_batch(train_data)"
      ],
      "metadata": {
        "colab": {
          "base_uri": "https://localhost:8080/",
          "height": 378
        },
        "id": "AIHAc0vJKPTZ",
        "outputId": "aca9b764-c26f-424c-8d40-0434cf173952"
      },
      "execution_count": null,
      "outputs": [
        {
          "output_type": "stream",
          "name": "stderr",
          "text": [
            "Clipping input data to the valid range for imshow with RGB data ([0..1] for floats or [0..255] for integers).\n"
          ]
        },
        {
          "output_type": "display_data",
          "data": {
            "image/png": "[encoded data removed]",
            "text/plain": [
              "<Figure size 864x432 with 1 Axes>"
            ]
          },
          "metadata": {}
        }
      ]
    },
    {
      "cell_type": "markdown",
      "source": [
        "## Create Network"
      ],
      "metadata": {
        "id": "Un651VGybVoO"
      }
    },
    {
      "cell_type": "code",
      "source": [
        "import torch.nn as nn\n",
        "import torch.nn.functional as F\n",
        "\n",
        "\n",
        "class ConvNet(torch.nn.Module):\n",
        "    def __init__(self):\n",
        "        super().__init__()\n",
        "        self.conv1 = nn.Conv2d(3, 16, 3, padding=1)\n",
        "        self.conv2 = nn.Conv2d(16, 32, 3, padding=1)\n",
        "        self.conv3 = nn.Conv2d(32, 64, 3, padding=1)\n",
        "        # max pooling layer\n",
        "        self.pool = nn.MaxPool2d(2, 2)\n",
        "        # fully connected layers\n",
        "        self.fc1 = nn.Linear(64 * 4 * 4, 512)\n",
        "        self.fc2 = nn.Linear(512, 64)\n",
        "        self.fc3 = nn.Linear(64, 10)\n",
        "        # dropout\n",
        "        self.dropout = nn.Dropout(p=.5)\n",
        "\n",
        "    def forward(self, x):\n",
        "        # add sequence of convolutional and max pooling layers\n",
        "        x = self.pool(F.relu(self.conv1(x)))\n",
        "        x = self.pool(F.relu(self.conv2(x)))\n",
        "        x = self.pool(F.relu(self.conv3(x)))\n",
        "        # flattening\n",
        "        x = x.view(-1, 64 * 4 * 4)\n",
        "        # fully connected layers\n",
        "        x = self.dropout(F.relu(self.fc1(x)))\n",
        "        x = self.dropout(F.relu(self.fc2(x)))\n",
        "        x = self.fc3(x)\n",
        "        return x\n",
        "\n",
        "\n"
      ],
      "metadata": {
        "id": "EZBGl7hFSTOJ"
      },
      "execution_count": null,
      "outputs": []
    },
    {
      "cell_type": "code",
      "source": [
        "test_convnet = ConvNet().to('cuda') #define model on Cuda\n",
        "test_input = torch.randn(16, 3, 32, 32, device='cuda')\n",
        "test_output = test_convnet(test_input)\n",
        "print(test_output.shape)"
      ],
      "metadata": {
        "colab": {
          "base_uri": "https://localhost:8080/"
        },
        "id": "lWJeItnuXZ9X",
        "outputId": "f52ca619-dc7d-4ee9-c365-795e890b9b6d"
      },
      "execution_count": null,
      "outputs": [
        {
          "output_type": "stream",
          "name": "stdout",
          "text": [
            "torch.Size([16, 10])\n"
          ]
        }
      ]
    },
    {
      "cell_type": "markdown",
      "source": [
        "## Define Loss Function"
      ],
      "metadata": {
        "id": "IJf8ezqAbbVq"
      }
    },
    {
      "cell_type": "markdown",
      "source": [
        "The network doesn't include a softmax activation at the output, Cross entropy loss is considered."
      ],
      "metadata": {
        "id": "tAg1jEF_64ZY"
      }
    },
    {
      "cell_type": "code",
      "source": [
        "loss_fn = torch.nn.CrossEntropyLoss()"
      ],
      "metadata": {
        "id": "HY-NqGP2WLAl"
      },
      "execution_count": null,
      "outputs": []
    },
    {
      "cell_type": "markdown",
      "source": [
        "## Define Optimizer"
      ],
      "metadata": {
        "id": "ElFIW9ZZbgB_"
      }
    },
    {
      "cell_type": "markdown",
      "source": [
        "Adam Optimizer with default parameter is considered."
      ],
      "metadata": {
        "id": "AV-h0MPv7Jg2"
      }
    },
    {
      "cell_type": "code",
      "source": [
        "optimizer = torch.optim.Adam(test_convnet.parameters())\n",
        "print(optimizer) #details of the Adam optimizer with default hyper parameters"
      ],
      "metadata": {
        "colab": {
          "base_uri": "https://localhost:8080/"
        },
        "id": "9fGbrb8-Y2Yz",
        "outputId": "86f0ec4d-a0cc-412a-c6c6-fa8ab43c4a38"
      },
      "execution_count": null,
      "outputs": [
        {
          "output_type": "stream",
          "name": "stdout",
          "text": [
            "Adam (\n",
            "Parameter Group 0\n",
            "    amsgrad: False\n",
            "    betas: (0.9, 0.999)\n",
            "    eps: 1e-08\n",
            "    lr: 0.001\n",
            "    weight_decay: 0\n",
            ")\n"
          ]
        }
      ]
    },
    {
      "cell_type": "markdown",
      "source": [
        "## Define validation(test) loop"
      ],
      "metadata": {
        "id": "SaAPUu76bkkB"
      }
    },
    {
      "cell_type": "markdown",
      "source": [
        "The function is decided, which takes a model and a dataloader and output accuracy. This function is used for validation and test dataloader.\n",
        "Note: Make sure to toggle eval mode on at the beginning of the function and toggle it off at the end.\n",
        "Note: When testing for accuracies, torch doesn't need to keep track of activations and gradients in the network."
      ],
      "metadata": {
        "id": "FZOHZFRs7SKB"
      }
    },
    {
      "cell_type": "code",
      "source": [
        "def check_accuracy(neuralnet, dataloader):\n",
        "    neuralnet.eval()  # Change model to 'eval' mode (BN uses moving mean/var).\n",
        "    correct = 0.0\n",
        "    total = 0.0\n",
        "    for test_images, test_labels in dataloader:\n",
        "\n",
        "        test_images, test_labels = test_images.cuda(), test_labels.cuda() ## Move batch to GPU\n",
        "        images = test_images\n",
        "        with torch.no_grad(): #turn off gradients\n",
        "          pred = neuralnet(images) #get the predictions\n",
        "\n",
        "        pred = torch.max(pred.data, 1)[1]\n",
        "        total += test_labels.size(0)\n",
        "        correct += (pred == test_labels).sum().item()\n",
        "\n",
        "    accuracy = correct / total\n",
        "    neuralnet.train() #toggle eval mod off at the end\n",
        "\n",
        "    return accuracy\n",
        ""
      ],
      "metadata": {
        "id": "OktJ4GPlY5FJ"
      },
      "execution_count": null,
      "outputs": []
    },
    {
      "cell_type": "markdown",
      "source": [
        "## Define Training Loop"
      ],
      "metadata": {
        "id": "ioigKD-Sbrfi"
      }
    },
    {
      "cell_type": "code",
      "source": [
        "def train_one_epoch(neuralnet, dataloader, optimizer, loss_fn):\n",
        "\n",
        "\n",
        "\n",
        "    for imgs_batch, labels_batch in dataloader:\n",
        "        imgs_batch, labels_batch = imgs_batch.to(\"cuda\"), labels_batch.to(\"cuda\")\n",
        "\n",
        "\n",
        "    ##  ## Pass inputs to the network\n",
        "        class_scores = neuralnet (imgs_batch)\n",
        "\n",
        "    ## Calculate loss using the loss_fn defined above\n",
        "        loss = loss_fn(class_scores, labels_batch)\n",
        "\n",
        "\n",
        "    ## Take an optimization step\n",
        "        optimizer.zero_grad() #clear grads\n",
        "        loss.backward() # #compute grads\n",
        "        optimizer.step()  # take a gradient descent step using optimizer"
      ],
      "metadata": {
        "id": "FBOoaA55ZKbE"
      },
      "execution_count": null,
      "outputs": []
    },
    {
      "cell_type": "markdown",
      "source": [
        "## TRAIN"
      ],
      "metadata": {
        "id": "54Ve2tX5dGj1"
      }
    },
    {
      "cell_type": "markdown",
      "source": [
        "Train the network for at least 10 epochs. Measure both training and validation accuracy after each epoch, show it on a epoch/accuracy graph"
      ],
      "metadata": {
        "id": "Lpi02Tv2L9ia"
      }
    },
    {
      "cell_type": "code",
      "source": [
        "# Use the training function you defined above to train your network on training set.\n",
        "\n",
        "training_accuracy_list = []\n",
        "validation_accuracy_list = []\n",
        "\n",
        "NUM_EPOCHS = 10 #at least 10\n",
        "\n",
        "for epoch_no in range(NUM_EPOCHS):\n",
        "    print(f'Epoch {epoch_no + 1}...')\n",
        "\n",
        "    train_one_epoch(test_convnet, train_loader, optimizer, loss_fn)\n",
        "\n",
        "    training_accuracy = check_accuracy(test_convnet, train_loader)\n",
        "    print(f'Training   accuracy: {training_accuracy * 100 :.2f}%')\n",
        "    validation_accuracy = check_accuracy(test_convnet, valid_loader)\n",
        "    print(f'Validation accuracy: {validation_accuracy * 100 :.2f}%')\n",
        "\n",
        "    training_accuracy_list.append(training_accuracy)\n",
        "    validation_accuracy_list.append(validation_accuracy)"
      ],
      "metadata": {
        "colab": {
          "base_uri": "https://localhost:8080/"
        },
        "id": "1XdBJGfyZTe5",
        "outputId": "4c3e75ba-1151-44dd-9828-fef06e6a0d32"
      },
      "execution_count": null,
      "outputs": [
        {
          "output_type": "stream",
          "name": "stdout",
          "text": [
            "Epoch 1...\n",
            "Training   accuracy: 56.43%\n",
            "Validation accuracy: 54.94%\n",
            "Epoch 2...\n",
            "Training   accuracy: 64.20%\n",
            "Validation accuracy: 62.28%\n",
            "Epoch 3...\n",
            "Training   accuracy: 69.45%\n",
            "Validation accuracy: 66.38%\n",
            "Epoch 4...\n",
            "Training   accuracy: 74.77%\n",
            "Validation accuracy: 70.84%\n",
            "Epoch 5...\n",
            "Training   accuracy: 76.14%\n",
            "Validation accuracy: 71.12%\n",
            "Epoch 6...\n",
            "Training   accuracy: 78.46%\n",
            "Validation accuracy: 71.26%\n",
            "Epoch 7...\n",
            "Training   accuracy: 79.75%\n",
            "Validation accuracy: 72.42%\n",
            "Epoch 8...\n",
            "Training   accuracy: 81.28%\n",
            "Validation accuracy: 72.60%\n",
            "Epoch 9...\n",
            "Training   accuracy: 82.99%\n",
            "Validation accuracy: 72.84%\n",
            "Epoch 10...\n",
            "Training   accuracy: 83.51%\n",
            "Validation accuracy: 73.64%\n"
          ]
        }
      ]
    },
    {
      "cell_type": "markdown",
      "source": [
        "## Plot"
      ],
      "metadata": {
        "id": "h2K9SLV_dTlW"
      }
    },
    {
      "cell_type": "code",
      "source": [
        "plt.plot(training_accuracy_list)\n",
        "plt.plot(validation_accuracy_list)\n",
        "plt.xlabel(\"Epochs\")\n",
        "plt.ylabel(\"Accuracy\")"
      ],
      "metadata": {
        "colab": {
          "base_uri": "https://localhost:8080/",
          "height": 296
        },
        "id": "uUKMQPJbdRQv",
        "outputId": "043a5135-e871-40f3-aedc-dda5c0d1374c"
      },
      "execution_count": null,
      "outputs": [
        {
          "output_type": "execute_result",
          "data": {
            "text/plain": [
              "Text(0, 0.5, 'Accuracy')"
            ]
          },
          "metadata": {},
          "execution_count": 204
        },
        {
          "output_type": "display_data",
          "data": {
            "image/png": "[encoded data removed]",
            "text/plain": [
              "<Figure size 432x288 with 1 Axes>"
            ]
          },
          "metadata": {
            "needs_background": "light"
          }
        }
      ]
    },
    {
      "cell_type": "markdown",
      "source": [
        "##TEST"
      ],
      "metadata": {
        "id": "PLhORTGHdaJS"
      }
    },
    {
      "cell_type": "markdown",
      "source": [
        "Test the network on the test set"
      ],
      "metadata": {
        "id": "zXpHEr3Vdc0h"
      }
    },
    {
      "cell_type": "code",
      "source": [
        "# Use the test function you defined above to test your network before training\n",
        "test_accuracy = check_accuracy(test_convnet, test_loader)\n",
        "print(f'Test accuracy after training: {test_accuracy * 100 :.2f}%')"
      ],
      "metadata": {
        "colab": {
          "base_uri": "https://localhost:8080/"
        },
        "id": "nejb7YppdWOk",
        "outputId": "5c743c12-28df-441c-db7f-bf8cfccb7017"
      },
      "execution_count": null,
      "outputs": [
        {
          "output_type": "stream",
          "name": "stdout",
          "text": [
            "Test accuracy after training: 73.69%\n"
          ]
        }
      ]
    },
    {
      "cell_type": "markdown",
      "source": [
        "As seen our test accuracy is above 71.85%, so it is considered as a successful model."
      ],
      "metadata": {
        "id": "08u3kZZTdgV6"
      }
    },
    {
      "cell_type": "markdown",
      "source": [
        "## Save the network"
      ],
      "metadata": {
        "id": "5xseynwJdmA8"
      }
    },
    {
      "cell_type": "code",
      "source": [
        "print(test_convnet) #model details"
      ],
      "metadata": {
        "colab": {
          "base_uri": "https://localhost:8080/"
        },
        "id": "KhLa680qdnE7",
        "outputId": "dfecf839-0365-4e63-e2a1-09a91ca10307"
      },
      "execution_count": null,
      "outputs": [
        {
          "output_type": "stream",
          "name": "stdout",
          "text": [
            "ConvNet(\n",
            "  (conv1): Conv2d(3, 16, kernel_size=(3, 3), stride=(1, 1), padding=(1, 1))\n",
            "  (conv2): Conv2d(16, 32, kernel_size=(3, 3), stride=(1, 1), padding=(1, 1))\n",
            "  (conv3): Conv2d(32, 64, kernel_size=(3, 3), stride=(1, 1), padding=(1, 1))\n",
            "  (pool): MaxPool2d(kernel_size=2, stride=2, padding=0, dilation=1, ceil_mode=False)\n",
            "  (fc1): Linear(in_features=1024, out_features=512, bias=True)\n",
            "  (fc2): Linear(in_features=512, out_features=64, bias=True)\n",
            "  (fc3): Linear(in_features=64, out_features=10, bias=True)\n",
            "  (dropout): Dropout(p=0.5, inplace=False)\n",
            ")\n"
          ]
        }
      ]
    },
    {
      "cell_type": "markdown",
      "source": [
        "As written, I've saved the parameters of the traine"
      ],
      "metadata": {
        "id": "UNS-cnZHL5tG"
      }
    },
    {
      "cell_type": "code",
      "source": [
        "print(\"The state dict keys: \\n\\n\", test_convnet.state_dict().keys()) #state dict keys"
      ],
      "metadata": {
        "colab": {
          "base_uri": "https://localhost:8080/"
        },
        "id": "tdAgKqyxdrr1",
        "outputId": "7fd33bca-be46-4261-f4a8-386da99ecb6b"
      },
      "execution_count": null,
      "outputs": [
        {
          "output_type": "stream",
          "name": "stdout",
          "text": [
            "The state dict keys: \n",
            "\n",
            " odict_keys(['conv1.weight', 'conv1.bias', 'conv2.weight', 'conv2.bias', 'conv3.weight', 'conv3.bias', 'fc1.weight', 'fc1.bias', 'fc2.weight', 'fc2.bias', 'fc3.weight', 'fc3.bias'])\n"
          ]
        }
      ]
    }
  ]
}